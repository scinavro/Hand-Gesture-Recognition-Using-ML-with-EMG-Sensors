{
 "cells": [
  {
   "cell_type": "code",
   "execution_count": 8,
   "id": "8dde2520",
   "metadata": {},
   "outputs": [],
   "source": [
    "import numpy as np\n",
    "import tensorflow as tf\n",
    "from keras.models import Sequential\n",
    "from tensorflow.keras.layers import (\n",
    "    Conv2D,\n",
    "    BatchNormalization,\n",
    "    Activation,\n",
    "    Dropout,\n",
    "    MaxPooling2D,\n",
    "    LSTM,\n",
    ")\n",
    "from tensorflow.keras import regularizers"
   ]
  },
  {
   "cell_type": "code",
   "execution_count": 12,
   "id": "49f0570c",
   "metadata": {},
   "outputs": [],
   "source": [
    "L2_NORM = 0.01\n",
    "DROPOUT_RATE = 0.05\n",
    "\n",
    "LEARNING_RATE = 0.001\n",
    "BETA_1 = 0.9\n",
    "BETA_2 = 0.999"
   ]
  },
  {
   "cell_type": "code",
   "execution_count": null,
   "id": "4f03f5b4",
   "metadata": {},
   "outputs": [],
   "source": [
    "# TODO : resnet 구현"
   ]
  },
  {
   "cell_type": "code",
   "execution_count": 13,
   "id": "5c217326",
   "metadata": {},
   "outputs": [],
   "source": [
    "model = Sequential()\n",
    "\n",
    "### Encoder\n",
    "model.add(\n",
    "    Conv2D(\n",
    "        32,\n",
    "        kernel_size=(3, 2),\n",
    "        padding=\"same\",\n",
    "        input_shape=(1000, 8, 1),\n",
    "        kernel_regularizer=regularizers.L2(l2=L2_NORM),\n",
    "    )\n",
    ")\n",
    "model.add(BatchNormalization())\n",
    "model.add(Activation(\"relu\"))\n",
    "model.add(Dropout(rate=DROPOUT_RATE))\n",
    "model.add(MaxPooling2D(pool_size=(5, 2)))  # output_shape = (200, 4, 1)\n",
    "\n",
    "model.add(\n",
    "    Conv2D(\n",
    "        128,\n",
    "        kernel_size=(3, 2),\n",
    "        padding=\"same\",\n",
    "        kernel_regularizer=regularizers.L2(l2=L2_NORM),\n",
    "    )\n",
    ")\n",
    "model.add(BatchNormalization())\n",
    "model.add(Activation(\"relu\"))\n",
    "model.add(Dropout(rate=DROPOUT_RATE))\n",
    "model.add(MaxPooling2D(pool_size=(4, 2)))  # output_shape = (50, 2, 1)\n",
    "\n",
    "model.add(\n",
    "    Conv2D(\n",
    "        256,\n",
    "        kernel_size=(3, 2),\n",
    "        padding=\"same\",\n",
    "        kernel_regularizer=regularizers.L2(l2=L2_NORM),\n",
    "    )\n",
    ")\n",
    "model.add(BatchNormalization())\n",
    "model.add(Activation(\"relu\"))\n",
    "model.add(Dropout(rate=DROPOUT_RATE))\n",
    "model.add(MaxPooling2D(pool_size=(2, 2)))  # output_shape = (25, 1, 1)\n",
    "\n",
    "### ResNet\n",
    "\n",
    "\n",
    "### Decoder"
   ]
  },
  {
   "cell_type": "code",
   "execution_count": 20,
   "id": "4e958696",
   "metadata": {},
   "outputs": [],
   "source": [
    "def mse_loss(y_true, y_pred):\n",
    "    err = y_true - y_pred\n",
    "    loss = tf.math.reduce_mean(tf.math.square(err))\n",
    "\n",
    "    return loss"
   ]
  },
  {
   "cell_type": "code",
   "execution_count": 21,
   "id": "59c0923d",
   "metadata": {},
   "outputs": [],
   "source": [
    "optimizer = tf.keras.optimizers.Adam(\n",
    "    learning_rate=LEARNING_RATE, beta_1=BETA_1, beta_2=BETA_2\n",
    ")\n",
    "model.compile(loss=mse_loss, optimizer=optimizer)"
   ]
  },
  {
   "cell_type": "code",
   "execution_count": null,
   "id": "c0cc1a17",
   "metadata": {},
   "outputs": [],
   "source": []
  }
 ],
 "metadata": {
  "kernelspec": {
   "display_name": "Python 3 (ipykernel)",
   "language": "python",
   "name": "python3"
  },
  "language_info": {
   "codemirror_mode": {
    "name": "ipython",
    "version": 3
   },
   "file_extension": ".py",
   "mimetype": "text/x-python",
   "name": "python",
   "nbconvert_exporter": "python",
   "pygments_lexer": "ipython3",
   "version": "3.10.9"
  }
 },
 "nbformat": 4,
 "nbformat_minor": 5
}
